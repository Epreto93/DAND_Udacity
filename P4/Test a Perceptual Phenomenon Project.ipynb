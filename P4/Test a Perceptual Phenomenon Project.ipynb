{
 "cells": [
  {
   "cell_type": "markdown",
   "metadata": {},
   "source": [
    "### Analyzing the Stroop Effect\n",
    "\n",
    "In this project, I will investigate a classic phenomenon from experimental psychology called the [Stroop Effect](https://en.wikipedia.org/wiki/Stroop_effect). \n",
    "In psychology, the Stroop effect is a demonstration of interference in the reaction time of a task. When the name of a color (for example \"blue\", \"yellow\",\"green\", etc) is printed in a color that is not denoted by the name (e.g., the word \"green\" printed in red ink instead of green ink), naming the color of the word takes longer and is more prone to errors than when the color of the ink matches the name of the color.\n",
    "\n",
    "In the porcess of investigating this phenomenon I will review the basic concepts of statistics, including:\n",
    "\n",
    "* How to identify components of an experiment\n",
    "\n",
    "* How to use descriptive statistics to describe qualities of a sample\n",
    "\n",
    "* How to set up a hypothesis test, make inferences from a sample, and draw conclusions based on the results\n",
    "\n"
   ]
  },
  {
   "cell_type": "markdown",
   "metadata": {},
   "source": [
    "In this scenario the dependent variable is time and the independent variable is whether the color word combination is congruent or incongruent."
   ]
  },
  {
   "cell_type": "markdown",
   "metadata": {},
   "source": [
    "I will be performing a hypothesis test using bootstrapping to obtain p, and I will also carry out a paired sample (dependent), one tailed t-test. For these tests I will let the Null hypothesis state that the difference in time taken when reading congruent data is either less than or equal to the time taken to read incongruent data. Consequently, my Alternative hypothesis will state that the time taken to read incongruent data is longer than the time taken to read incongruent data. I have chosen these hypothesis as explained above since my alternative hypothesis is what I want to test, which is whether there is a significant statistical indication that it takes the longest to read incongruent data. <br/>\n",
    "\n",
    "NULL HYPOTHEEIS :  $μ_I$ - $μ_C$ =< 0 <br/> \n",
    "\n",
    "ALTERNATIVE HYPOTHESIS : $μ_I$ - $μ_C$ > 0 <br/> \n",
    "\n",
    "Where:<br/> $μ_C$ is the mean time taken to read with congruent data, the congruent population mean<br/>\n",
    "$μ_I$ is the mean time taken to read with incongruent data, the incongruent population mean\n",
    "\n",
    "I chose to use a paired sample, one tailed t-test for the following reasons: <br/>\n",
    "\n",
    "* a t-test can be used to determine whether the mean of the differences between two paired samples differs from 0\n",
    "* specifically, a paired sample t-test is used since both experiments (reading the congruent words and the incongruent words) were carried out on the same group of people, and not on two different groups of people. In other words there are two time measurements that can be compared for each person in the experiment.\n",
    "\n",
    "\n",
    "The one (and paired) sample t-tests are considered \"robust\"for violations of normal distribution and have the following assumptions:\n",
    "\n",
    "* Interval or ratio scale of measurement (approximately interval)\n",
    "* Random sampling from a defined population\n",
    "* Characteristic is normally distributed in the population\n",
    "\n",
    "The reason for using a t-test rather than a z-test (which is also used to compare the difference in population means) is because the sample size in this case is small and the population standard deviation is not known.\n"
   ]
  },
  {
   "cell_type": "markdown",
   "metadata": {},
   "source": [
    "First I will import the necessary libraries and read in the dataset. The name of the data file is 'stroopdata.csv'."
   ]
  },
  {
   "cell_type": "code",
   "execution_count": 2,
   "metadata": {},
   "outputs": [
    {
     "data": {
      "text/html": [
       "<div>\n",
       "<style>\n",
       "    .dataframe thead tr:only-child th {\n",
       "        text-align: right;\n",
       "    }\n",
       "\n",
       "    .dataframe thead th {\n",
       "        text-align: left;\n",
       "    }\n",
       "\n",
       "    .dataframe tbody tr th {\n",
       "        vertical-align: top;\n",
       "    }\n",
       "</style>\n",
       "<table border=\"1\" class=\"dataframe\">\n",
       "  <thead>\n",
       "    <tr style=\"text-align: right;\">\n",
       "      <th></th>\n",
       "      <th>Congruent</th>\n",
       "      <th>Incongruent</th>\n",
       "    </tr>\n",
       "  </thead>\n",
       "  <tbody>\n",
       "    <tr>\n",
       "      <th>0</th>\n",
       "      <td>12.079</td>\n",
       "      <td>19.278</td>\n",
       "    </tr>\n",
       "    <tr>\n",
       "      <th>1</th>\n",
       "      <td>16.791</td>\n",
       "      <td>18.741</td>\n",
       "    </tr>\n",
       "    <tr>\n",
       "      <th>2</th>\n",
       "      <td>9.564</td>\n",
       "      <td>21.214</td>\n",
       "    </tr>\n",
       "    <tr>\n",
       "      <th>3</th>\n",
       "      <td>8.630</td>\n",
       "      <td>15.687</td>\n",
       "    </tr>\n",
       "    <tr>\n",
       "      <th>4</th>\n",
       "      <td>14.669</td>\n",
       "      <td>22.803</td>\n",
       "    </tr>\n",
       "  </tbody>\n",
       "</table>\n",
       "</div>"
      ],
      "text/plain": [
       "   Congruent  Incongruent\n",
       "0     12.079       19.278\n",
       "1     16.791       18.741\n",
       "2      9.564       21.214\n",
       "3      8.630       15.687\n",
       "4     14.669       22.803"
      ]
     },
     "execution_count": 2,
     "metadata": {},
     "output_type": "execute_result"
    }
   ],
   "source": [
    "import pandas as pd\n",
    "import numpy as np\n",
    "import matplotlib.pyplot as plt\n",
    "from scipy import stats\n",
    "\n",
    "df = pd.read_csv('stroopdata.csv')\n",
    "\n",
    "df.head()"
   ]
  },
  {
   "cell_type": "markdown",
   "metadata": {},
   "source": [
    "Below are some descriptive statistics regarding this dataset."
   ]
  },
  {
   "cell_type": "code",
   "execution_count": 3,
   "metadata": {},
   "outputs": [
    {
     "data": {
      "text/plain": [
       "14.051125000000004"
      ]
     },
     "execution_count": 3,
     "metadata": {},
     "output_type": "execute_result"
    }
   ],
   "source": [
    "mean_con = df['Congruent'].mean()\n",
    "mean_con"
   ]
  },
  {
   "cell_type": "code",
   "execution_count": 4,
   "metadata": {},
   "outputs": [
    {
     "data": {
      "text/plain": [
       "22.01591666666667"
      ]
     },
     "execution_count": 4,
     "metadata": {},
     "output_type": "execute_result"
    }
   ],
   "source": [
    "mean_incon = df['Incongruent'].mean()\n",
    "mean_incon"
   ]
  },
  {
   "cell_type": "code",
   "execution_count": 5,
   "metadata": {},
   "outputs": [
    {
     "data": {
      "text/plain": [
       "3.559357957645195"
      ]
     },
     "execution_count": 5,
     "metadata": {},
     "output_type": "execute_result"
    }
   ],
   "source": [
    "df['Congruent'].std()"
   ]
  },
  {
   "cell_type": "code",
   "execution_count": 6,
   "metadata": {},
   "outputs": [
    {
     "data": {
      "text/plain": [
       "4.797057122469138"
      ]
     },
     "execution_count": 6,
     "metadata": {},
     "output_type": "execute_result"
    }
   ],
   "source": [
    "df['Incongruent'].std()"
   ]
  },
  {
   "cell_type": "markdown",
   "metadata": {},
   "source": [
    "Based on the descriptive statistics calculated here one can see that the mean time of the congruent data is less than the mean time of the incongruent data. This indicates, as expected, that on average it takes longer to read the incongruent data. The results also show that the spread of the incongruent data is greater than that on the congruent data."
   ]
  },
  {
   "cell_type": "markdown",
   "metadata": {},
   "source": [
    "I will use visualizations to show the distribution of the sample data:"
   ]
  },
  {
   "cell_type": "code",
   "execution_count": 15,
   "metadata": {},
   "outputs": [
    {
     "data": {
      "image/png": "[encoded data removed]",
      "text/plain": [
       "<matplotlib.figure.Figure at 0x11ccf9a58>"
      ]
     },
     "metadata": {},
     "output_type": "display_data"
    }
   ],
   "source": [
    "plt.figure(figsize=(15,15))\n",
    "plt.subplot(2,2,1)\n",
    "plt.hist(x = df['Congruent'])\n",
    "plt.title('Congruent')\n",
    "plt.ylabel('frequency')\n",
    "plt.xlabel('time taken to read')\n",
    "\n",
    "plt.subplot(2,2,2)\n",
    "plt.hist(x = df['Incongruent'])\n",
    "plt.title('Incongruent')\n",
    "plt.ylabel('frequency')\n",
    "plt.xlabel('time taken to read');\n"
   ]
  },
  {
   "cell_type": "markdown",
   "metadata": {},
   "source": [
    "Considering the histogram on the right, the incongruent data lies mostly between approximately 16 and 27.5 seconds.  The histogram on the left shows that the time taken to read the congruent data ranges from approximately 9 seconds up to 22.5 seconds.\n",
    "The minimum and maximum time seen on the congruent data graph are lower than the respective minimum and maximum time on the incongruent graph. This agrees with what is expected, since it would make sense that it would take longer to read the incongruent data."
   ]
  },
  {
   "cell_type": "markdown",
   "metadata": {},
   "source": [
    "I will now perform the statistical test and investigate the results. "
   ]
  },
  {
   "cell_type": "code",
   "execution_count": 16,
   "metadata": {},
   "outputs": [
    {
     "data": {
      "text/plain": [
       "7.964791666666665"
      ]
     },
     "execution_count": 16,
     "metadata": {},
     "output_type": "execute_result"
    }
   ],
   "source": [
    "diff = mean_incon-mean_con\n",
    "diff"
   ]
  },
  {
   "cell_type": "code",
   "execution_count": 17,
   "metadata": {},
   "outputs": [],
   "source": [
    "diff_means = []\n",
    "for _ in range(10000):\n",
    "    b_samp = df.sample(df.shape[0],replace=True)\n",
    "    congru_mean = b_samp['Congruent'].mean()\n",
    "    incongru_mean = b_samp['Incongruent'].mean()\n",
    "    diff_means.append(incongru_mean - congru_mean)"
   ]
  },
  {
   "cell_type": "code",
   "execution_count": 18,
   "metadata": {},
   "outputs": [
    {
     "data": {
      "image/png": "[encoded data removed]",
      "text/plain": [
       "<matplotlib.figure.Figure at 0x11cda1160>"
      ]
     },
     "metadata": {},
     "output_type": "display_data"
    }
   ],
   "source": [
    "plt.hist(diff_means);"
   ]
  },
  {
   "cell_type": "code",
   "execution_count": 19,
   "metadata": {},
   "outputs": [],
   "source": [
    "diffs_means = np.array(diff_means)"
   ]
  },
  {
   "cell_type": "code",
   "execution_count": 20,
   "metadata": {},
   "outputs": [],
   "source": [
    "null_vals = np.random.normal(0,diffs_means.std(),diffs_means.size)"
   ]
  },
  {
   "cell_type": "code",
   "execution_count": 21,
   "metadata": {},
   "outputs": [
    {
     "data": {
      "image/png": "[encoded data removed]",
      "text/plain": [
       "<matplotlib.figure.Figure at 0x11d0d07b8>"
      ]
     },
     "metadata": {},
     "output_type": "display_data"
    }
   ],
   "source": [
    "plt.hist(null_vals)\n",
    "plt.axvline(x = diff,color = 'red');"
   ]
  },
  {
   "cell_type": "code",
   "execution_count": 22,
   "metadata": {},
   "outputs": [
    {
     "data": {
      "text/plain": [
       "0.0"
      ]
     },
     "execution_count": 22,
     "metadata": {},
     "output_type": "execute_result"
    }
   ],
   "source": [
    "pval = (null_vals>diff).mean()\n",
    "pval"
   ]
  },
  {
   "cell_type": "markdown",
   "metadata": {},
   "source": [
    "The hypothesis test showed that there is enough evidence to reject the null hypothesis and hence show that the time taken to read the incongruent data is higher than the time taken to read the congruent data. <br/>\n",
    "\n",
    "From the histgram above one can see that the difference in means between congruent and incongruent times, calculated from the sample data, lie far from the difference in means values obtained from the sample distribution under the null hypothesis. As can be seen from the code cell above, this results in a p-value of 0. Choosing a critical statistic value of 0.05, this p-value of 0 indicates that the Null hypothesis should be rejected - with a confidence level of 90%."
   ]
  },
  {
   "cell_type": "markdown",
   "metadata": {},
   "source": [
    "For the above hypothesis test I used bootstrapping to find the p-value, I will now carry out the t-test as well."
   ]
  },
  {
   "cell_type": "code",
   "execution_count": 23,
   "metadata": {},
   "outputs": [],
   "source": [
    " np.random.seed(12345678)"
   ]
  },
  {
   "cell_type": "code",
   "execution_count": 24,
   "metadata": {},
   "outputs": [],
   "source": [
    "t,pval=stats.ttest_rel(a=df['Incongruent'], b=df['Congruent'])"
   ]
  },
  {
   "cell_type": "code",
   "execution_count": 25,
   "metadata": {},
   "outputs": [
    {
     "data": {
      "text/plain": [
       "8.020706944109957"
      ]
     },
     "execution_count": 25,
     "metadata": {},
     "output_type": "execute_result"
    }
   ],
   "source": [
    "t"
   ]
  },
  {
   "cell_type": "code",
   "execution_count": 26,
   "metadata": {},
   "outputs": [
    {
     "data": {
      "text/plain": [
       "4.1030005857111781e-08"
      ]
     },
     "execution_count": 26,
     "metadata": {},
     "output_type": "execute_result"
    }
   ],
   "source": [
    "pval"
   ]
  },
  {
   "cell_type": "markdown",
   "metadata": {},
   "source": [
    "From the above results one van see that the p-value is very close to zero - this agrees with the p-value obtained using the bootstrapping method. \"t\" is our test statistic in this case and it is equal to \"8.0207\" to 4 decimal places."
   ]
  },
  {
   "cell_type": "markdown",
   "metadata": {},
   "source": [
    "The reason it takes longer to read the incongruent data is most likely because of the interference between the two processes in which your brain identifies the colour of the word and interprets the word's meaning. The two theories that explain this, which is known as the Stroop effect, is: <br/>\n",
    "Speed of Processing Theory: the interference occurs because words are read faster than colors are named. <br/>\n",
    "Selective Attention Theory: the interference occurs because naming colors requires more attention than reading words.\n",
    "\n",
    "Another experiment that can be carried out to create this same effect is using the words \"small, medium, large\" in small, medium, and large font sizes. In the congruent dataset the font size of the word must match it's meaning, for example, if the word is \"small\" it should be written in the small font. In the incongruent dataset the font size and word should not match, for example, if the word is \"small\" it could be written in a large or medium font. The size of the word should then be read out, rather than the word itself. Timing how long it takes to read this incongruent and congruent dataset may very likely show the same phenomenon observed in the dataset investigated in this project - that is, it will probably be easier to read the word than identify the size of the word."
   ]
  },
  {
   "cell_type": "markdown",
   "metadata": {},
   "source": [
    "## Resources"
   ]
  },
  {
   "cell_type": "markdown",
   "metadata": {},
   "source": [
    "https://faculty.washington.edu/chudler/words.html#seffect <br/>\n",
    "http://support.minitab.com/en-us/minitab/17/topic-library/basic-statistics-and-graphs/hypothesis-tests/tests-of-means/why-use-paired-t/ <br/>\n",
    "http://www.psychology.emory.edu/clinical/bliwise/Tutorials/TOM/meanstests/assump.htm <br/>\n",
    "http://www.dummies.com/education/math/statistics/how-to-use-the-t-test-to-handle-small-samples-and-unknown-standard-deviations/"
   ]
  }
 ],
 "metadata": {
  "kernelspec": {
   "display_name": "Python [default]",
   "language": "python",
   "name": "python3"
  },
  "language_info": {
   "codemirror_mode": {
    "name": "ipython",
    "version": 3
   },
   "file_extension": ".py",
   "mimetype": "text/x-python",
   "name": "python",
   "nbconvert_exporter": "python",
   "pygments_lexer": "ipython3",
   "version": "3.6.1"
  }
 },
 "nbformat": 4,
 "nbformat_minor": 2
}
